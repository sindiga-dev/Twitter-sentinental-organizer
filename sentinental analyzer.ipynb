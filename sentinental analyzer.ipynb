{
 "cells": [
  {
   "cell_type": "code",
   "execution_count": 1,
   "id": "9232ae11",
   "metadata": {
    "_cell_guid": "b1076dfc-b9ad-4769-8c92-a6c4dae69d19",
    "_uuid": "8f2839f25d086af736a60e9eeb907d3b93b6e0e5",
    "execution": {
     "iopub.execute_input": "2023-04-15T15:01:25.129960Z",
     "iopub.status.busy": "2023-04-15T15:01:25.128935Z",
     "iopub.status.idle": "2023-04-15T15:01:26.594689Z",
     "shell.execute_reply": "2023-04-15T15:01:26.592970Z"
    },
    "papermill": {
     "duration": 1.475222,
     "end_time": "2023-04-15T15:01:26.599148",
     "exception": false,
     "start_time": "2023-04-15T15:01:25.123926",
     "status": "completed"
    },
    "tags": []
   },
   "outputs": [
    {
     "name": "stdout",
     "output_type": "stream",
     "text": [
      "Naïve Bayes\n",
      "Accuracy: 0.5833333333333334\n",
      "Precision: 0.34027777777777785\n",
      "Recall: 0.5833333333333334\n",
      "\n",
      "Logistic Regression\n",
      "Accuracy: 0.5833333333333334\n",
      "Precision: 0.34027777777777785\n",
      "Recall: 0.5833333333333334\n",
      "\n",
      "Support Vector Machine\n",
      "Accuracy: 0.5\n",
      "Precision: 0.5\n",
      "Recall: 0.5\n"
     ]
    },
    {
     "name": "stderr",
     "output_type": "stream",
     "text": [
      "/opt/conda/lib/python3.7/site-packages/sklearn/metrics/_classification.py:1318: UndefinedMetricWarning: Precision is ill-defined and being set to 0.0 in labels with no predicted samples. Use `zero_division` parameter to control this behavior.\n",
      "  _warn_prf(average, modifier, msg_start, len(result))\n",
      "/opt/conda/lib/python3.7/site-packages/sklearn/metrics/_classification.py:1318: UndefinedMetricWarning: Precision is ill-defined and being set to 0.0 in labels with no predicted samples. Use `zero_division` parameter to control this behavior.\n",
      "  _warn_prf(average, modifier, msg_start, len(result))\n"
     ]
    }
   ],
   "source": [
    "import os\n",
    "import pandas as pd\n",
    "from sklearn.feature_extraction.text import CountVectorizer, TfidfVectorizer\n",
    "from sklearn.naive_bayes import MultinomialNB\n",
    "from sklearn.linear_model import LogisticRegression\n",
    "from sklearn.svm import LinearSVC\n",
    "from sklearn.model_selection import train_test_split\n",
    "from sklearn.metrics import accuracy_score, precision_score, recall_score\n",
    "\n",
    "# Load the data from a local file\n",
    "data = pd.read_csv('/Tweets.csv', encoding='utf-8')\n",
    "\n",
    "# Filter the data to tweets related to Twitter\n",
    "data = data[data['text'].str.contains('Twitter')]\n",
    "\n",
    "# Preprocess  data\n",
    "data['sentiment'] = data['airline_sentiment'].map({'negative': 0, 'neutral': 1, 'positive': 2})\n",
    "data = data[['text', 'sentiment']]\n",
    "data = data.dropna()\n",
    "data = data.reset_index(drop=True)\n",
    "\n",
    "# Split  data into train and test sets\n",
    "X_train, X_test, y_train, y_test = train_test_split(data['text'], data['sentiment'], test_size=0.2, random_state=42)\n",
    "\n",
    "# Vectorize  text data\n",
    "vectorizer = TfidfVectorizer()\n",
    "X_train_vectorized = vectorizer.fit_transform(X_train)\n",
    "X_test_vectorized = vectorizer.transform(X_test)\n",
    "\n",
    "# Train the Naïve Bayes model\n",
    "nb = MultinomialNB()\n",
    "nb.fit(X_train_vectorized, y_train)\n",
    "nb_y_pred = nb.predict(X_test_vectorized)\n",
    "\n",
    "# Train the Logistic Regression model\n",
    "lr = LogisticRegression()\n",
    "lr.fit(X_train_vectorized, y_train)\n",
    "lr_y_pred = lr.predict(X_test_vectorized)\n",
    "\n",
    "# Train the Support Vector Machine model\n",
    "svm = LinearSVC()\n",
    "svm.fit(X_train_vectorized, y_train)\n",
    "svm_y_pred = svm.predict(X_test_vectorized)\n",
    "\n",
    "# Evaluate the models\n",
    "print('Naïve Bayes')\n",
    "print('Accuracy:', accuracy_score(y_test, nb_y_pred))\n",
    "print('Precision:', precision_score(y_test, nb_y_pred, average='weighted'))\n",
    "print('Recall:', recall_score(y_test, nb_y_pred, average='weighted'))\n",
    "print('')\n",
    "\n",
    "print('Logistic Regression')\n",
    "print('Accuracy:', accuracy_score(y_test, lr_y_pred))\n",
    "print('Precision:', precision_score(y_test, lr_y_pred, average='weighted'))\n",
    "print('Recall:', recall_score(y_test, lr_y_pred, average='weighted'))\n",
    "print('')\n",
    "\n",
    "print('Support Vector Machine')\n",
    "print('Accuracy:', accuracy_score(y_test, svm_y_pred))\n",
    "print('Precision:', precision_score(y_test, svm_y_pred, average='weighted'))\n",
    "print('Recall:', recall_score(y_test, svm_y_pred, average='weighted'))"
   ]
  }
 ],
 "metadata": {
  "kernelspec": {
   "display_name": "Python 3",
   "language": "python",
   "name": "python3"
  },
  "language_info": {
   "codemirror_mode": {
    "name": "ipython",
    "version": 3
   },
   "file_extension": ".py",
   "mimetype": "text/x-python",
   "name": "python",
   "nbconvert_exporter": "python",
   "pygments_lexer": "ipython3",
   "version": "3.7.12"
  },
  "papermill": {
   "default_parameters": {},
   "duration": 13.203238,
   "end_time": "2023-04-15T15:01:27.323422",
   "environment_variables": {},
   "exception": null,
   "input_path": "__notebook__.ipynb",
   "output_path": "__notebook__.ipynb",
   "parameters": {},
   "start_time": "2023-04-15T15:01:14.120184",
   "version": "2.4.0"
  }
 },
 "nbformat": 4,
 "nbformat_minor": 5
}
